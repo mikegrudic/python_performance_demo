{
 "cells": [
  {
   "cell_type": "markdown",
   "metadata": {},
   "source": [
    "# How 2 go fast with numba"
   ]
  },
  {
   "cell_type": "markdown",
   "metadata": {},
   "source": [
    "## Python and performance\n",
    "\n",
    "- Python code has a reputation for being slower than other programming languages, which is often well-deserved. \n",
    "\n",
    "- Python is an **interpreted** programming language: your code is converted to bytecode, which is in turn executed by a set of machine instructions by the Python interpreter when you run the program. \n",
    "\n",
    "- This is in contrast to a **compiled** programming language such as C++ or Fortran, where your code is converted into machine instructions that are compiled into a binary, which you then execute later. \n",
    "\n",
    "- This implementation gives Python a great degree of power and flexibility, but comes with a trade-off for performance.\n",
    "\n",
    "- But we will see here that there are ways to make your python code run **orders-of-magnitude** faster with relatively little extra work."
   ]
  },
  {
   "cell_type": "markdown",
   "metadata": {},
   "source": [
    "## Problem Setup\n",
    "\n",
    "For our problem let's assume we have a collection of $N$ point-masses $m_i$, each with its own 3D coordinates $\\mathbf{x}_{i}$, and we wish to know the gravitational acceleration $\\mathbf{g}_{i}$ experienced each of the masses. This is requied e.g. for performing N-body simulations of planetary systems, star clusters, galaxies, and dark matter structure. \n",
    "\n",
    "At the position $\\mathbf{x}_{i}$ of each particle **i**, we wish to compute\n",
    "\n",
    "$$\n",
    "\\mathbf{g}_{i} = \\sum_{i \\neq j} G m_j \\frac{\\mathbf{x}_i - \\mathbf{x}_j}{\\|\\mathbf{x}_i - \\mathbf{x}_j\\|^3}\n",
    "$$\n",
    "\n",
    "### Initialization\n",
    "For the sake of the example we will initialize $m_i$ and $\\mathbf{x}_{i}$ random samples, from a uniform distribution on $[0,1)$ and from a 3D Gaussian respectively:"
   ]
  },
  {
   "cell_type": "code",
   "execution_count": 1,
   "metadata": {},
   "outputs": [],
   "source": [
    "import numpy as np\n",
    "\n",
    "num_particles = 10**3 # number of particles\n",
    "np.random.seed(42) # seed the RNG to run reproducibly\n",
    "masses = np.random.rand(num_particles) # particle masses chosen at random on [0,1)\n",
    "coordinates = np.random.normal(size=(num_particles,3)) # particle positions chosen at random in a 3D Gaussian blob"
   ]
  },
  {
   "cell_type": "markdown",
   "metadata": {},
   "source": [
    "## Naïve native-python implementation\n",
    "\n",
    "Let's code a typical Numpy function that will compute the N-body gravitational acceleration. We will start as simple as possible while working within the numpy paradigm for arrays and docstrings, and explicitly writing out the loop operations."
   ]
  },
  {
   "cell_type": "code",
   "execution_count": 2,
   "metadata": {},
   "outputs": [],
   "source": [
    "def nbody_accel(masses, coordinates, G=1.0):\n",
    "    \"\"\"\n",
    "    Computes the Newtontian gravitational acceleration exerted on each of a set\n",
    "    of point masses.\n",
    "\n",
    "    Parameters\n",
    "    ----------\n",
    "    masses: array_like\n",
    "        Shape (N,) array of masses\n",
    "    coordinates: array_like\n",
    "        Shape (N,3) array of coordinates\n",
    "    G: float, optional\n",
    "        Value of Newton's gravitational constant (default to 1)\n",
    "\n",
    "    Returns\n",
    "    -------\n",
    "    accel: ndarray\n",
    "        Shape (N,3) array containing the gravitational acceleration experienced\n",
    "        by each point-mass\n",
    "    \"\"\"\n",
    "\n",
    "    # first declare the array that will store the acceleration\n",
    "    accel = np.zeros_like(coordinates)  # array of zeros shaped like coordinate (N,3)\n",
    "    N = coordinates.shape[0]  # number of particles\n",
    "\n",
    "    for i in range(N):\n",
    "        for j in range(N):\n",
    "            if i == j:\n",
    "                continue  # self-force is 0\n",
    "            \n",
    "            # first need to calculate the distance between i and j\n",
    "            distance = 0.0\n",
    "            for k in range(3):\n",
    "                dx = coordinates[j, k] - coordinates[i, k]\n",
    "                distance += dx * dx\n",
    "            if distance == 0:\n",
    "                continue  # just skip if points lie on top of each other\n",
    "            distance = np.sqrt(distance)\n",
    "\n",
    "            # now compute the acceleration\n",
    "            for k in range(3):\n",
    "                dx = coordinates[j, k] - coordinates[i, k]\n",
    "                accel[i, k] += G * masses[j] * dx / distance**3 # computes the actual summand\n",
    "\n",
    "    return accel"
   ]
  },
  {
   "cell_type": "markdown",
   "metadata": {},
   "source": [
    "# Performance test\n",
    "\n",
    "One way to test the performance of a function is to use the `%timeit` magic, which will run the function repeatedly and give you an average of how long it took."
   ]
  },
  {
   "cell_type": "code",
   "execution_count": 3,
   "metadata": {},
   "outputs": [
    {
     "name": "stdout",
     "output_type": "stream",
     "text": [
      "4.22 s ± 20.7 ms per loop (mean ± std. dev. of 7 runs, 1 loop each)\n"
     ]
    }
   ],
   "source": [
    "%timeit nbody_accel(masses,coordinates)"
   ]
  },
  {
   "cell_type": "markdown",
   "metadata": {},
   "source": [
    "That took forever.\n",
    "\n",
    "What's taking so long? One way to get a breakdown of which lines in your function are taking the most time is with the `%lprun` magic provided by the `line_profiler` package"
   ]
  },
  {
   "cell_type": "code",
   "execution_count": 4,
   "metadata": {},
   "outputs": [
    {
     "name": "stdout",
     "output_type": "stream",
     "text": [
      "Timer unit: 1e-09 s\n",
      "\n",
      "Total time: 8.71538 s\n",
      "File: /tmp/ipykernel_341979/2553819955.py\n",
      "Function: nbody_accel at line 1\n",
      "\n",
      "Line #      Hits         Time  Per Hit   % Time  Line Contents\n",
      "==============================================================\n",
      "     1                                           def nbody_accel(masses, coordinates, G=1.0):\n",
      "     2                                               \"\"\"\n",
      "     3                                               Computes the Newtontian gravitational acceleration exerted on each of a set\n",
      "     4                                               of point masses.\n",
      "     5                                           \n",
      "     6                                               Parameters\n",
      "     7                                               ----------\n",
      "     8                                               masses: array_like\n",
      "     9                                                   Shape (N,) array of masses\n",
      "    10                                               coordinates: array_like\n",
      "    11                                                   Shape (N,3) array of coordinates\n",
      "    12                                               G: float, optional\n",
      "    13                                                   Value of Newton's gravitational constant (default to 1)\n",
      "    14                                           \n",
      "    15                                               Returns\n",
      "    16                                               -------\n",
      "    17                                               accel: ndarray\n",
      "    18                                                   Shape (N,3) array containing the gravitational acceleration experienced\n",
      "    19                                                   by each point-mass\n",
      "    20                                               \"\"\"\n",
      "    21                                           \n",
      "    22                                               # first declare the array that will store the acceleration\n",
      "    23         1     139280.0 139280.0      0.0      accel = np.zeros_like(coordinates)  # array of zeros shaped like coordinate (N,3)\n",
      "    24         1       5664.0   5664.0      0.0      N = coordinates.shape[0]  # number of particles\n",
      "    25                                           \n",
      "    26      1001     150595.0    150.4      0.0      for i in range(N):\n",
      "    27   1001000  163963313.0    163.8      1.9          for j in range(N):\n",
      "    28   1000000  154792817.0    154.8      1.8              if i == j:\n",
      "    29      1000     116413.0    116.4      0.0                  continue  # self-force is 0\n",
      "    30                                                       \n",
      "    31                                                       # first need to calculate the distance between i and j\n",
      "    32    999000  134254488.0    134.4      1.5              distance = 0.0\n",
      "    33   3996000  750958862.0    187.9      8.6              for k in range(3):\n",
      "    34   2997000 1295597804.0    432.3     14.9                  dx = coordinates[j, k] - coordinates[i, k]\n",
      "    35   2997000  713265380.0    238.0      8.2                  distance += dx * dx\n",
      "    36    999000  178512068.0    178.7      2.0              if distance == 0:\n",
      "    37                                                           continue  # just skip if points lie on top of each other\n",
      "    38    999000  863832297.0    864.7      9.9              distance = np.sqrt(distance)\n",
      "    39                                           \n",
      "    40                                                       # now compute the acceleration\n",
      "    41   3996000  792290793.0    198.3      9.1              for k in range(3):\n",
      "    42   2997000 1307745299.0    436.4     15.0                  dx = coordinates[j, k] - coordinates[i, k]\n",
      "    43   2997000 2359756948.0    787.4     27.1                  accel[i, k] += G * masses[j] * dx / distance**3 # computes the actual summand\n",
      "    44                                           \n",
      "    45         1        417.0    417.0      0.0      return accel"
     ]
    }
   ],
   "source": [
    "%load_ext line_profiler\n",
    "\n",
    "%lprun -f nbody_accel nbody_accel(masses, coordinates)"
   ]
  },
  {
   "cell_type": "markdown",
   "metadata": {},
   "source": [
    "We see that there is no single line that takes the vast majority of the time, so optimizing this line-by-line is not practical.\n",
    "\n",
    "## Exercise\n",
    "When facing a performance bottleneck, the most elegant solution is to choose a more optimal algorithm, or implementation of a given algorithm. How much can you optimize the above function just by rearranging the way the loop is structured and the floating-point calculations are carried out?\n",
    "\n",
    "## The need for JIT compilation\n",
    "\n",
    "Even with a per reason for the low performance is more fundamental: explicit indexed loop operations like this have a huge amount of overhead when running natively in the Python interpreter. Much of python's flexibility comes with a trade-off for performance, so pure-python numerical code like this will almost always be outperformed by a compiled language like C++ or Fortran.\n",
    "\n",
    "Is there a way to get around this?"
   ]
  },
  {
   "cell_type": "markdown",
   "metadata": {},
   "source": [
    "## Numba\n",
    "\n",
    "Numba performs JIT (just-in-time) compilation of your numerical Python code so that it is possible in theory to obtain performance comparable to compiled languages. The simplest way to use it is just to put a `@jit` decordator on your function."
   ]
  },
  {
   "cell_type": "code",
   "execution_count": 5,
   "metadata": {},
   "outputs": [
    {
     "name": "stdout",
     "output_type": "stream",
     "text": [
      "5.79 ms ± 83.6 μs per loop (mean ± std. dev. of 7 runs, 1 loop each)\n"
     ]
    }
   ],
   "source": [
    "from numba import jit\n",
    "\n",
    "@jit\n",
    "def nbody_accel_numba(masses, coordinates, G=1.):\n",
    "    \"\"\"\n",
    "    Computes the Newtontian gravitational acceleration exerted on each of a set\n",
    "    of point masses.\n",
    "\n",
    "    Parameters\n",
    "    ----------\n",
    "    masses: array_like\n",
    "        Shape (N,) array of masses\n",
    "    coordinates: array_like\n",
    "        Shape (N,3) array of coordinates\n",
    "    G: float, optional\n",
    "        Value of Newton's gravitational constant (default to 1)\n",
    "\n",
    "    Returns\n",
    "    -------\n",
    "    accel: ndarray\n",
    "        Shape (N,3) array containing the gravitational acceleration experienced\n",
    "        by each point-mass\n",
    "    \"\"\"\n",
    "\n",
    "    # first declare the array that will store the acceleration\n",
    "    accel = np.zeros_like(coordinates)  # array of zeros shaped like coordinate (N,3)\n",
    "    N = coordinates.shape[0]  # number of particles\n",
    "\n",
    "    for i in range(N):\n",
    "        for j in range(N):\n",
    "            if i == j:\n",
    "                continue  # self-force is 0\n",
    "            \n",
    "            # first need to calculate the distance between i and j\n",
    "            distance = 0.0\n",
    "            for k in range(3):\n",
    "                dx = coordinates[j, k] - coordinates[i, k]\n",
    "                distance += dx * dx\n",
    "            if distance == 0:\n",
    "                continue  # just skip if points lie on top of each other\n",
    "            distance = np.sqrt(distance)\n",
    "\n",
    "            # now compute the acceleration\n",
    "            for k in range(3):\n",
    "                dx = coordinates[j, k] - coordinates[i, k]\n",
    "                accel[i, k] += G * masses[j] * dx / distance**3 # computes the actual summand\n",
    "\n",
    "    return accel\n",
    "%timeit nbody_accel_numba(masses,coordinates)"
   ]
  },
  {
   "cell_type": "markdown",
   "metadata": {},
   "source": [
    "Note the factor of ~1000 speedup, obtained by fundamentally changing the way the code gets transformed into instructions! \n",
    "\n",
    "You can also pass your existing function to the `jit()` function and it will return the jit'd version:"
   ]
  },
  {
   "cell_type": "code",
   "execution_count": 6,
   "metadata": {},
   "outputs": [
    {
     "name": "stdout",
     "output_type": "stream",
     "text": [
      "6.75 ms ± 38.2 μs per loop (mean ± std. dev. of 7 runs, 100 loops each)\n"
     ]
    }
   ],
   "source": [
    "nbody_accel_numba = jit(nbody_accel)\n",
    "%timeit nbody_accel_numba(masses,coordinates)"
   ]
  },
  {
   "cell_type": "markdown",
   "metadata": {},
   "source": [
    "### Fancy optimizations: fast math\n",
    "\n",
    "We can get a little more performance by adding the `fastmath=True` argument, which relaxes the requirement that floating-point operations be performed according to the standard IEEE 754 spec, and can substitute certain functions with faster versions that give the same result within machine precision. One example would be replacing a `x**3.` call with the much-faster `x*x*x`: this is not strictly conformant to what you asked the code to do, but agrees within machine precision. This is usually fine, but **always test your function's accuracy to make sure it calculates the result to desired accuracy**"
   ]
  },
  {
   "cell_type": "code",
   "execution_count": 7,
   "metadata": {},
   "outputs": [],
   "source": [
    "@jit(fastmath=True)\n",
    "def nbody_accel_numba_fastmath(masses, coordinates, G=1.):\n",
    "    \"\"\"\n",
    "    Computes the Newtontian gravitational acceleration exerted on each of a set\n",
    "    of point masses.\n",
    "\n",
    "    Parameters\n",
    "    ----------\n",
    "    masses: array_like\n",
    "        Shape (N,) array of masses\n",
    "    coordinates: array_like\n",
    "        Shape (N,3) array of coordinates\n",
    "    G: float, optional\n",
    "        Value of Newton's gravitational constant (default to 1)\n",
    "\n",
    "    Returns\n",
    "    -------\n",
    "    accel: ndarray\n",
    "        Shape (N,3) array containing the gravitational acceleration experienced\n",
    "        by each point-mass\n",
    "    \"\"\"\n",
    "\n",
    "    # first declare the array that will store the acceleration\n",
    "    accel = np.zeros_like(coordinates) # array of zeros shaped like coordinate (N,3)\n",
    "    N = coordinates.shape[0] # number of particles\n",
    "\n",
    "    for i in range(N):\n",
    "        for j in range(N):\n",
    "            if i==j: \n",
    "                continue # self-force is 0\n",
    "            # first need to calculate the distance between i and j\n",
    "            distance = 0.\n",
    "            for k in range(3):\n",
    "                dx = coordinates[j,k] - coordinates[i,k]\n",
    "                distance += dx*dx\n",
    "            if distance == 0: \n",
    "                continue # just skip if points lie on top of each other\n",
    "            distance = np.sqrt(distance)\n",
    "\n",
    "            # now compute the acceleration\n",
    "            for k in range(3):\n",
    "                dx = coordinates[j,k] - coordinates[i,k]\n",
    "                accel[i,k] += G * masses[j] * dx / distance**3\n",
    "\n",
    "    return accel"
   ]
  },
  {
   "cell_type": "code",
   "execution_count": 8,
   "metadata": {},
   "outputs": [
    {
     "name": "stdout",
     "output_type": "stream",
     "text": [
      "5.25 ms ± 8.67 μs per loop (mean ± std. dev. of 7 runs, 1 loop each)\n"
     ]
    }
   ],
   "source": [
    "%timeit nbody_accel_numba_fastmath(masses, coordinates)"
   ]
  },
  {
   "cell_type": "markdown",
   "metadata": {},
   "source": [
    "This provided a modest speedup. We can make sure we are getting the same result:"
   ]
  },
  {
   "cell_type": "code",
   "execution_count": 9,
   "metadata": {},
   "outputs": [
    {
     "data": {
      "text/plain": [
       "True"
      ]
     },
     "execution_count": 9,
     "metadata": {},
     "output_type": "execute_result"
    }
   ],
   "source": [
    "np.allclose(nbody_accel_numba_fastmath(masses, coordinates), nbody_accel_numba(masses,coordinates))"
   ]
  },
  {
   "cell_type": "markdown",
   "metadata": {},
   "source": [
    "## Thread Parallelism\n",
    "There is even more performance on the table here: your computer has **multiple** processors, and so far we have just been using only one. numba supports multi-threaded parallelism: to check or set the number of threads numba will run on, you can use `get_num_threads()` and `set_num_threads()`:"
   ]
  },
  {
   "cell_type": "code",
   "execution_count": 10,
   "metadata": {},
   "outputs": [
    {
     "name": "stdout",
     "output_type": "stream",
     "text": [
      "numba can use 32 threads!\n",
      "now numba can use 16 threads!\n",
      "now numba can use 32 threads again!\n"
     ]
    }
   ],
   "source": [
    "from numba import get_num_threads, set_num_threads\n",
    "num_threads = get_num_threads()\n",
    "print(f\"numba can use {num_threads} threads!\")\n",
    "set_num_threads(num_threads // 2)\n",
    "print(f\"now numba can use {get_num_threads()} threads!\")\n",
    "set_num_threads(num_threads)\n",
    "print(f\"now numba can use {num_threads} threads again!\")"
   ]
  },
  {
   "cell_type": "markdown",
   "metadata": {},
   "source": [
    "The easiest way to parallelize the N-body force problem is to run the outer loop in parallel using `prange`, and tell numba to use it with `parallel=True`. Note that `prange` will behave exactly the same way as `range` if `parallel=False`."
   ]
  },
  {
   "cell_type": "code",
   "execution_count": 11,
   "metadata": {},
   "outputs": [],
   "source": [
    "from numba import prange\n",
    "\n",
    "@jit(fastmath=True,parallel=True)\n",
    "def nbody_accel_numba_fastmath_parallel(masses, coordinates, G=1.):\n",
    "    \"\"\"\n",
    "    Computes the Newtontian gravitational acceleration exerted on each of a set\n",
    "    of point masses.\n",
    "\n",
    "    Parameters\n",
    "    ----------\n",
    "    masses: array_like\n",
    "        Shape (N,) array of masses\n",
    "    coordinates: array_like\n",
    "        Shape (N,3) array of coordinates\n",
    "    G: float, optional\n",
    "        Value of Newton's gravitational constant (default to 1)\n",
    "\n",
    "    Returns\n",
    "    -------\n",
    "    accel: ndarray\n",
    "        Shape (N,3) array containing the gravitational acceleration experienced\n",
    "        by each point-mass\n",
    "    \"\"\"\n",
    "\n",
    "    # first declare the array that will store the acceleration\n",
    "    accel = np.zeros_like(coordinates) # array of zeros shaped like coordinate (N,3)\n",
    "    N = coordinates.shape[0] # number of particles\n",
    " \n",
    "    for i in prange(N): # this is prange now\n",
    "        for j in range(N):\n",
    "            if i==j: \n",
    "                continue # self-force is 0\n",
    "            # first need to calculate the distance between i and j\n",
    "            distance = 0.\n",
    "            for k in range(3):\n",
    "                dx = coordinates[j,k] - coordinates[i,k]\n",
    "                distance += dx*dx\n",
    "            if distance == 0: \n",
    "                continue # just skip if points lie on top of each other\n",
    "            distance = np.sqrt(distance)\n",
    "\n",
    "            # now compute the acceleration\n",
    "            for k in range(3):\n",
    "                dx = coordinates[j,k] - coordinates[i,k]\n",
    "                accel[i,k] += G * masses[j] * dx / distance**3\n",
    "\n",
    "    return accel"
   ]
  },
  {
   "cell_type": "code",
   "execution_count": 12,
   "metadata": {},
   "outputs": [
    {
     "name": "stdout",
     "output_type": "stream",
     "text": [
      "The slowest run took 25.39 times longer than the fastest. This could mean that an intermediate result is being cached.\n",
      "4.77 ms ± 3.06 ms per loop (mean ± std. dev. of 7 runs, 1 loop each)\n"
     ]
    }
   ],
   "source": [
    "%timeit nbody_accel_numba_fastmath_parallel(masses, coordinates, G=1.)"
   ]
  },
  {
   "cell_type": "code",
   "execution_count": 13,
   "metadata": {},
   "outputs": [
    {
     "data": {
      "text/plain": [
       "True"
      ]
     },
     "execution_count": 13,
     "metadata": {},
     "output_type": "execute_result"
    }
   ],
   "source": [
    "np.allclose(nbody_accel_numba_fastmath_parallel(masses, coordinates), nbody_accel(masses,coordinates))"
   ]
  },
  {
   "cell_type": "markdown",
   "metadata": {},
   "source": [
    "### Caveat parallelizor\n",
    "The usual caveats of parallel programming apply here; always validate your parallel code. Although [numba can sometimes recognize simple reduction loops](https://numba.readthedocs.io/en/stable/user/parallel.html?highlight=race#explicit-parallel-loops) and use atomics to avoid potential data races, in general potential data races must be recognized and avoided. AFAIK explicit atomic operations are not supported as in OpenMP, so not all of your favorite thread-parallel algorithms are possible."
   ]
  },
  {
   "cell_type": "markdown",
   "metadata": {},
   "source": [
    "## Limitations of numba\n",
    "\n",
    "numba is designed for array and compute-intensive code, and can only JIT-compile a specific subset of python. As a rule of thumb: **if your python code basically looks like a simple C or fortran array loop, you can probably JIT it with numba**.\n",
    "\n",
    "To see this, let's try to use `scipy.KDTree` inside a numba function. Suppose you only care about the force from the $N_{\\rm ngb}$ nearest neighbors, and you want to use `KDTree.query` to search those nearest neighbors efficiently."
   ]
  },
  {
   "cell_type": "code",
   "execution_count": 14,
   "metadata": {},
   "outputs": [],
   "source": [
    "from scipy.spatial import KDTree\n",
    "\n",
    "@jit\n",
    "def nbody_accel_nearest(masses, coordinates, num_neighbors, G=1.):\n",
    "    \"\"\"\n",
    "    Computes the Newtontian gravitational acceleration exerted on each of a set\n",
    "    of point masses, accounting only for the num_neighbors set of nearest neighbors.\n",
    "\n",
    "    Parameters\n",
    "    ----------\n",
    "    masses: array_like\n",
    "        Shape (N,) array of masses\n",
    "    coordinates: array_like\n",
    "        Shape (N,3) array of coordinates\n",
    "    G: float, optional\n",
    "        Value of Newton's gravitational constant (default to 1)\n",
    "\n",
    "    Returns\n",
    "    -------\n",
    "    accel: ndarray\n",
    "        Shape (N,3) array containing the gravitational acceleration experienced\n",
    "        by each point-mass\n",
    "    \"\"\"\n",
    "\n",
    "    tree = KDTree(coordinates) # build the tree\n",
    "\n",
    "    # first declare the array that will store the acceleration\n",
    "    accel = np.zeros_like(coordinates)  # array of zeros shaped like coordinate (N,3)\n",
    "    N = coordinates.shape[0]  # number of particles\n",
    "\n",
    "    for i in range(N):\n",
    "        _, ngb = tree.query(coordinates[i],num_neighbors+1)\n",
    "        for j in ngb[1:]:        \n",
    "            # first need to calculate the distance between i and j\n",
    "            distance = 0.0\n",
    "            for k in range(3):\n",
    "                dx = coordinates[j, k] - coordinates[i, k]\n",
    "                distance += dx * dx\n",
    "            if distance == 0:\n",
    "                continue  # just skip if points lie on top of each other\n",
    "            distance = np.sqrt(distance)\n",
    "\n",
    "            # now compute the acceleration\n",
    "            for k in range(3):\n",
    "                dx = coordinates[j, k] - coordinates[i, k]\n",
    "                accel[i, k] += G * masses[j] * dx / distance**3 # computes the actual summand\n",
    "\n",
    "    return accel"
   ]
  },
  {
   "cell_type": "code",
   "execution_count": 15,
   "metadata": {},
   "outputs": [
    {
     "ename": "TypingError",
     "evalue": "Failed in nopython mode pipeline (step: nopython frontend)\nUntyped global name 'KDTree': Cannot determine Numba type of <class 'type'>\n\nFile \"../../../../../tmp/ipykernel_341979/1274037237.py\", line 25:\n<source missing, REPL/exec in use?>\n\nDuring: Pass nopython_type_inference",
     "output_type": "error",
     "traceback": [
      "\u001b[0;31m---------------------------------------------------------------------------\u001b[0m",
      "\u001b[0;31mTypingError\u001b[0m                               Traceback (most recent call last)",
      "Cell \u001b[0;32mIn[15], line 1\u001b[0m\n\u001b[0;32m----> 1\u001b[0m \u001b[43mget_ipython\u001b[49m\u001b[43m(\u001b[49m\u001b[43m)\u001b[49m\u001b[38;5;241;43m.\u001b[39;49m\u001b[43mrun_line_magic\u001b[49m\u001b[43m(\u001b[49m\u001b[38;5;124;43m'\u001b[39;49m\u001b[38;5;124;43mtimeit\u001b[39;49m\u001b[38;5;124;43m'\u001b[39;49m\u001b[43m,\u001b[49m\u001b[43m \u001b[49m\u001b[38;5;124;43m'\u001b[39;49m\u001b[38;5;124;43mnbody_accel_nearest(masses, coordinates, 16, G=1.)\u001b[39;49m\u001b[38;5;124;43m'\u001b[39;49m\u001b[43m)\u001b[49m\n",
      "File \u001b[0;32m~/python_work/lib/python3.11/site-packages/IPython/core/interactiveshell.py:2480\u001b[0m, in \u001b[0;36mInteractiveShell.run_line_magic\u001b[0;34m(self, magic_name, line, _stack_depth)\u001b[0m\n\u001b[1;32m   2478\u001b[0m     kwargs[\u001b[38;5;124m'\u001b[39m\u001b[38;5;124mlocal_ns\u001b[39m\u001b[38;5;124m'\u001b[39m] \u001b[38;5;241m=\u001b[39m \u001b[38;5;28mself\u001b[39m\u001b[38;5;241m.\u001b[39mget_local_scope(stack_depth)\n\u001b[1;32m   2479\u001b[0m \u001b[38;5;28;01mwith\u001b[39;00m \u001b[38;5;28mself\u001b[39m\u001b[38;5;241m.\u001b[39mbuiltin_trap:\n\u001b[0;32m-> 2480\u001b[0m     result \u001b[38;5;241m=\u001b[39m \u001b[43mfn\u001b[49m\u001b[43m(\u001b[49m\u001b[38;5;241;43m*\u001b[39;49m\u001b[43margs\u001b[49m\u001b[43m,\u001b[49m\u001b[43m \u001b[49m\u001b[38;5;241;43m*\u001b[39;49m\u001b[38;5;241;43m*\u001b[39;49m\u001b[43mkwargs\u001b[49m\u001b[43m)\u001b[49m\n\u001b[1;32m   2482\u001b[0m \u001b[38;5;66;03m# The code below prevents the output from being displayed\u001b[39;00m\n\u001b[1;32m   2483\u001b[0m \u001b[38;5;66;03m# when using magics with decorator @output_can_be_silenced\u001b[39;00m\n\u001b[1;32m   2484\u001b[0m \u001b[38;5;66;03m# when the last Python token in the expression is a ';'.\u001b[39;00m\n\u001b[1;32m   2485\u001b[0m \u001b[38;5;28;01mif\u001b[39;00m \u001b[38;5;28mgetattr\u001b[39m(fn, magic\u001b[38;5;241m.\u001b[39mMAGIC_OUTPUT_CAN_BE_SILENCED, \u001b[38;5;28;01mFalse\u001b[39;00m):\n",
      "File \u001b[0;32m~/python_work/lib/python3.11/site-packages/IPython/core/magics/execution.py:1185\u001b[0m, in \u001b[0;36mExecutionMagics.timeit\u001b[0;34m(self, line, cell, local_ns)\u001b[0m\n\u001b[1;32m   1183\u001b[0m \u001b[38;5;28;01mfor\u001b[39;00m index \u001b[38;5;129;01min\u001b[39;00m \u001b[38;5;28mrange\u001b[39m(\u001b[38;5;241m0\u001b[39m, \u001b[38;5;241m10\u001b[39m):\n\u001b[1;32m   1184\u001b[0m     number \u001b[38;5;241m=\u001b[39m \u001b[38;5;241m10\u001b[39m \u001b[38;5;241m*\u001b[39m\u001b[38;5;241m*\u001b[39m index\n\u001b[0;32m-> 1185\u001b[0m     time_number \u001b[38;5;241m=\u001b[39m \u001b[43mtimer\u001b[49m\u001b[38;5;241;43m.\u001b[39;49m\u001b[43mtimeit\u001b[49m\u001b[43m(\u001b[49m\u001b[43mnumber\u001b[49m\u001b[43m)\u001b[49m\n\u001b[1;32m   1186\u001b[0m     \u001b[38;5;28;01mif\u001b[39;00m time_number \u001b[38;5;241m>\u001b[39m\u001b[38;5;241m=\u001b[39m \u001b[38;5;241m0.2\u001b[39m:\n\u001b[1;32m   1187\u001b[0m         \u001b[38;5;28;01mbreak\u001b[39;00m\n",
      "File \u001b[0;32m~/python_work/lib/python3.11/site-packages/IPython/core/magics/execution.py:173\u001b[0m, in \u001b[0;36mTimer.timeit\u001b[0;34m(self, number)\u001b[0m\n\u001b[1;32m    171\u001b[0m gc\u001b[38;5;241m.\u001b[39mdisable()\n\u001b[1;32m    172\u001b[0m \u001b[38;5;28;01mtry\u001b[39;00m:\n\u001b[0;32m--> 173\u001b[0m     timing \u001b[38;5;241m=\u001b[39m \u001b[38;5;28;43mself\u001b[39;49m\u001b[38;5;241;43m.\u001b[39;49m\u001b[43minner\u001b[49m\u001b[43m(\u001b[49m\u001b[43mit\u001b[49m\u001b[43m,\u001b[49m\u001b[43m \u001b[49m\u001b[38;5;28;43mself\u001b[39;49m\u001b[38;5;241;43m.\u001b[39;49m\u001b[43mtimer\u001b[49m\u001b[43m)\u001b[49m\n\u001b[1;32m    174\u001b[0m \u001b[38;5;28;01mfinally\u001b[39;00m:\n\u001b[1;32m    175\u001b[0m     \u001b[38;5;28;01mif\u001b[39;00m gcold:\n",
      "File \u001b[0;32m<magic-timeit>:1\u001b[0m, in \u001b[0;36minner\u001b[0;34m(_it, _timer)\u001b[0m\n",
      "File \u001b[0;32m~/python_work/lib/python3.11/site-packages/numba/core/dispatcher.py:424\u001b[0m, in \u001b[0;36m_DispatcherBase._compile_for_args\u001b[0;34m(self, *args, **kws)\u001b[0m\n\u001b[1;32m    420\u001b[0m         msg \u001b[38;5;241m=\u001b[39m (\u001b[38;5;124mf\u001b[39m\u001b[38;5;124m\"\u001b[39m\u001b[38;5;132;01m{\u001b[39;00m\u001b[38;5;28mstr\u001b[39m(e)\u001b[38;5;241m.\u001b[39mrstrip()\u001b[38;5;132;01m}\u001b[39;00m\u001b[38;5;124m \u001b[39m\u001b[38;5;130;01m\\n\u001b[39;00m\u001b[38;5;130;01m\\n\u001b[39;00m\u001b[38;5;124mThis error may have been caused \u001b[39m\u001b[38;5;124m\"\u001b[39m\n\u001b[1;32m    421\u001b[0m                \u001b[38;5;124mf\u001b[39m\u001b[38;5;124m\"\u001b[39m\u001b[38;5;124mby the following argument(s):\u001b[39m\u001b[38;5;130;01m\\n\u001b[39;00m\u001b[38;5;132;01m{\u001b[39;00margs_str\u001b[38;5;132;01m}\u001b[39;00m\u001b[38;5;130;01m\\n\u001b[39;00m\u001b[38;5;124m\"\u001b[39m)\n\u001b[1;32m    422\u001b[0m         e\u001b[38;5;241m.\u001b[39mpatch_message(msg)\n\u001b[0;32m--> 424\u001b[0m     \u001b[43merror_rewrite\u001b[49m\u001b[43m(\u001b[49m\u001b[43me\u001b[49m\u001b[43m,\u001b[49m\u001b[43m \u001b[49m\u001b[38;5;124;43m'\u001b[39;49m\u001b[38;5;124;43mtyping\u001b[39;49m\u001b[38;5;124;43m'\u001b[39;49m\u001b[43m)\u001b[49m\n\u001b[1;32m    425\u001b[0m \u001b[38;5;28;01mexcept\u001b[39;00m errors\u001b[38;5;241m.\u001b[39mUnsupportedError \u001b[38;5;28;01mas\u001b[39;00m e:\n\u001b[1;32m    426\u001b[0m     \u001b[38;5;66;03m# Something unsupported is present in the user code, add help info\u001b[39;00m\n\u001b[1;32m    427\u001b[0m     error_rewrite(e, \u001b[38;5;124m'\u001b[39m\u001b[38;5;124munsupported_error\u001b[39m\u001b[38;5;124m'\u001b[39m)\n",
      "File \u001b[0;32m~/python_work/lib/python3.11/site-packages/numba/core/dispatcher.py:365\u001b[0m, in \u001b[0;36m_DispatcherBase._compile_for_args.<locals>.error_rewrite\u001b[0;34m(e, issue_type)\u001b[0m\n\u001b[1;32m    363\u001b[0m     \u001b[38;5;28;01mraise\u001b[39;00m e\n\u001b[1;32m    364\u001b[0m \u001b[38;5;28;01melse\u001b[39;00m:\n\u001b[0;32m--> 365\u001b[0m     \u001b[38;5;28;01mraise\u001b[39;00m e\u001b[38;5;241m.\u001b[39mwith_traceback(\u001b[38;5;28;01mNone\u001b[39;00m)\n",
      "\u001b[0;31mTypingError\u001b[0m: Failed in nopython mode pipeline (step: nopython frontend)\nUntyped global name 'KDTree': Cannot determine Numba type of <class 'type'>\n\nFile \"../../../../../tmp/ipykernel_341979/1274037237.py\", line 25:\n<source missing, REPL/exec in use?>\n\nDuring: Pass nopython_type_inference"
     ]
    }
   ],
   "source": [
    "%timeit nbody_accel_nearest(masses, coordinates, 16, G=1.)"
   ]
  },
  {
   "cell_type": "markdown",
   "metadata": {},
   "source": [
    "### Nesting python object-mode code in JIT'd code"
   ]
  },
  {
   "cell_type": "markdown",
   "metadata": {},
   "source": [
    "Here we could just get our neighbor-searching done outside the `jit`'d function and pass the results, but \n",
    "1. We would have to store a **huge** neighbor list of length $N_{\\rm ngb} N$. This is often impractical for real-world datasets. \n",
    "2. Sometimes the demands of the algorithm don't allow this decoupling of operations, and we'd really like to switch gears into regular python on demand.\n",
    "\n",
    "I know 2 ways of doing this. First, we can pass `forceobj=True` and code that cannot be JIT'd will run in object mode."
   ]
  },
  {
   "cell_type": "code",
   "execution_count": null,
   "metadata": {},
   "outputs": [],
   "source": [
    "from scipy.spatial import KDTree\n",
    "\n",
    "tree = KDTree(coordinates)\n",
    "\n",
    "@jit(forceobj=True)\n",
    "def nbody_accel_nearest(masses, coordinates, num_neighbors, G=1.):\n",
    "    \"\"\"\n",
    "    Computes the Newtontian gravitational acceleration exerted on each of a set\n",
    "    of point masses, accounting only for the num_neighbors set of nearest neighbors.\n",
    "\n",
    "    Parameters\n",
    "    ----------\n",
    "    masses: array_like\n",
    "        Shape (N,) array of masses\n",
    "    coordinates: array_like\n",
    "        Shape (N,3) array of coordinates\n",
    "    G: float, optional\n",
    "        Value of Newton's gravitational constant (default to 1)\n",
    "\n",
    "    Returns\n",
    "    -------\n",
    "    accel: ndarray\n",
    "        Shape (N,3) array containing the gravitational acceleration experienced\n",
    "        by each point-mass\n",
    "    \"\"\"\n",
    "\n",
    "    # first declare the array that will store the acceleration\n",
    "    accel = np.zeros_like(coordinates)  # array of zeros shaped like coordinate (N,3)\n",
    "    N = coordinates.shape[0]  # number of particles\n",
    "\n",
    "    for i in range(N):\n",
    "        _, ngb = tree.query(coordinates[i],num_neighbors+1)\n",
    "        \n",
    "        for j in ngb[1:]:\n",
    "            # first need to calculate the distance between i and j\n",
    "            distance = 0.0\n",
    "            for k in range(3):\n",
    "                dx = coordinates[j, k] - coordinates[i, k]\n",
    "                distance += dx * dx\n",
    "            if distance == 0:\n",
    "                continue  # just skip if points lie on top of each other\n",
    "            distance = np.sqrt(distance)\n",
    "\n",
    "            # now compute the acceleration\n",
    "            for k in range(3):\n",
    "                dx = coordinates[j, k] - coordinates[i, k]\n",
    "                accel[i, k] += G * masses[j] * dx / distance**3 # computes the actual summand\n",
    "\n",
    "    return accel"
   ]
  },
  {
   "cell_type": "code",
   "execution_count": null,
   "metadata": {},
   "outputs": [
    {
     "name": "stderr",
     "output_type": "stream",
     "text": [
      "/tmp/ipykernel_324549/1044257097.py:5: NumbaWarning: \n",
      "Compilation is falling back to object mode WITHOUT looplifting enabled because Function \"nbody_accel_nearest\" failed type inference due to: Untyped global name 'tree': Cannot determine Numba type of <class 'scipy.spatial._kdtree.KDTree'>\n",
      "\n",
      "File \"../../../../../tmp/ipykernel_324549/1044257097.py\", line 32:\n",
      "<source missing, REPL/exec in use?>\n",
      "\n",
      "  @jit(forceobj=True)\n"
     ]
    },
    {
     "name": "stdout",
     "output_type": "stream",
     "text": [
      "121 ms ± 477 μs per loop (mean ± std. dev. of 7 runs, 1 loop each)\n"
     ]
    }
   ],
   "source": [
    "%timeit nbody_accel_nearest(masses, coordinates, 16)"
   ]
  },
  {
   "cell_type": "markdown",
   "metadata": {},
   "source": [
    "We can see that this ran successfully, but kinda slow, especially considering that we are only evaluating $N_{\\rm ngb} N$ forces now. Typically, embedding object-mode Python calls in loops that would otherwise be JIT'd will incur a performance cost.\n",
    "\n",
    "An alternative is to use the [`objmode` context manager](https://numba.readthedocs.io/en/stable/user/withobjmode.html#numba.objmode):"
   ]
  },
  {
   "cell_type": "code",
   "execution_count": null,
   "metadata": {},
   "outputs": [],
   "source": [
    "from numba import objmode, types\n",
    "\n",
    "out_type = types.int64[:]\n",
    "tree = KDTree(coordinates)\n",
    "\n",
    "@jit\n",
    "def nbody_accel_nearest(masses, coordinates, num_neighbors, G=1.):\n",
    "    \"\"\"\n",
    "    Computes the Newtontian gravitational acceleration exerted on each of a set\n",
    "    of point masses, accounting only for the num_neighbors set of nearest neighbors.\n",
    "\n",
    "    Parameters\n",
    "    ----------\n",
    "    masses: array_like\n",
    "        Shape (N,) array of masses\n",
    "    coordinates: array_like\n",
    "        Shape (N,3) array of coordinates\n",
    "    G: float, optional\n",
    "        Value of Newton's gravitational constant (default to 1)\n",
    "\n",
    "    Returns\n",
    "    -------\n",
    "    accel: ndarray\n",
    "        Shape (N,3) array containing the gravitational acceleration experienced\n",
    "        by each point-mass\n",
    "    \"\"\"\n",
    "\n",
    "    # first declare the array that will store the acceleration\n",
    "    accel = np.zeros_like(coordinates)  # array of zeros shaped like coordinate (N,3)\n",
    "    N = coordinates.shape[0]  # number of particles\n",
    "\n",
    "    for i in range(N):\n",
    "        with objmode(ngb=out_type):\n",
    "            _, ngb = tree.query(coordinates[i],num_neighbors+1)\n",
    "        \n",
    "        for j in ngb[1:]:\n",
    "            # first need to calculate the distance between i and j\n",
    "            distance = 0.0\n",
    "            for k in range(3):\n",
    "                dx = coordinates[j, k] - coordinates[i, k]\n",
    "                distance += dx * dx\n",
    "            if distance == 0:\n",
    "                continue  # just skip if points lie on top of each other\n",
    "            distance = np.sqrt(distance)\n",
    "\n",
    "            # now compute the acceleration\n",
    "            for k in range(3):\n",
    "                dx = coordinates[j, k] - coordinates[i, k]\n",
    "                accel[i, k] += G * masses[j] * dx / distance**3 # computes the actual summand\n",
    "\n",
    "    return accel"
   ]
  },
  {
   "cell_type": "code",
   "execution_count": null,
   "metadata": {},
   "outputs": [
    {
     "name": "stdout",
     "output_type": "stream",
     "text": [
      "30.2 ms ± 124 μs per loop (mean ± std. dev. of 7 runs, 1 loop each)\n"
     ]
    }
   ],
   "source": [
    "%timeit nbody_accel_nearest(masses, coordinates, 16)"
   ]
  },
  {
   "cell_type": "markdown",
   "metadata": {},
   "source": [
    "This was a little faster for some reason."
   ]
  },
  {
   "cell_type": "markdown",
   "metadata": {},
   "source": [
    "## Object-oriented programming with jitclasses\n",
    "\n",
    "Numba supports JIT'd object-oriented code via the [jitclass](https://numba.readthedocs.io/en/stable/user/jitclass.html?highlight=jitclass). Again, only a subset of the full set of python programming features is available. Crucially, class inheritance is not current supported (last I checked), limiting the power of the approach. Nevertheless, it can still be quite useful to define data containers with associated methods."
   ]
  },
  {
   "cell_type": "code",
   "execution_count": null,
   "metadata": {},
   "outputs": [],
   "source": [
    "from numba.experimental import jitclass\n",
    "from numba import float32 \n",
    "\n",
    "spec = [\n",
    "    ('x',float32),\n",
    "    ('y',float32)\n",
    "]\n",
    "\n",
    "@jitclass(spec)\n",
    "class Vector:\n",
    "    \"\"\"A crappy 2D vector class\"\"\"\n",
    "    def __init__(self, x, y):\n",
    "        self.x = x\n",
    "        self.y = y\n",
    "    \n",
    "    @property\n",
    "    def norm(self):\n",
    "        \"\"\"Returns the Euclidean norm of the vector\"\"\"\n",
    "        return np.sqrt(self.x*self.x+self.y*self.y)    \n",
    "    \n",
    "    def __add__(self, other):\n",
    "        \"\"\"Returns the sum of the vector with another vector\"\"\"\n",
    "        return Vector(self.x+other.x, self.y+other.y)\n",
    "    \n",
    "    def __dot__(self, other):\n",
    "        return self.x*other.x + self.y*other.y"
   ]
  },
  {
   "cell_type": "code",
   "execution_count": null,
   "metadata": {},
   "outputs": [
    {
     "data": {
      "text/plain": [
       "(1.0, 2.0, 2.2360680103302, 2.0, 4.0)"
      ]
     },
     "execution_count": 148,
     "metadata": {},
     "output_type": "execute_result"
    }
   ],
   "source": [
    "vec= Vector(1,2)\n",
    "vec.x, vec.y, vec.norm, (vec+vec).x, (vec+vec).y"
   ]
  },
  {
   "cell_type": "markdown",
   "metadata": {},
   "source": [
    "# Other options for fast and parallel python\n",
    "\n",
    "There are many other ways to write performant python code than just the numba parallel CPU coding we have done here.\n",
    "- [numba also supports running code on Nvidia GPUs](https://numba.readthedocs.io/en/stable/cuda/index.html).\n",
    "- Any python code can in principle be parallelized using python's native [multiprocessing](https://docs.python.org/3/library/multiprocessing.html).\n",
    "- [joblib](https://joblib.readthedocs.io/en/stable/) offers functionality for parallelism with a different implementation.\n",
    "- [JAX](https://jax.readthedocs.io/en/latest/quickstart.html) is best known for its use in machine learning but is also more broadly useful for coding GPU-portable python code consisting of function compositions and array operations.\n",
    "- [mpi4py](https://mpi4py.readthedocs.io/en/stable/mpi4py.html) implements MPI (Message Passing Interface) for distributed execution.\n",
    "\n",
    "The best choice will depend on your particular problem and requirements.\n",
    "\n",
    "Python may still have a reputation for being slow, but the reality is that in many cases the time-to-solution (coding+computation) for a give project can be shorter, just by taking advantage of Python's extensive community library support while optimizing the most numerically-intensive parts as we have here."
   ]
  }
 ],
 "metadata": {
  "kernelspec": {
   "display_name": "Python 3",
   "language": "python",
   "name": "python3"
  },
  "language_info": {
   "codemirror_mode": {
    "name": "ipython",
    "version": 3
   },
   "file_extension": ".py",
   "mimetype": "text/x-python",
   "name": "python",
   "nbconvert_exporter": "python",
   "pygments_lexer": "ipython3",
   "version": "3.11.7"
  }
 },
 "nbformat": 4,
 "nbformat_minor": 2
}
